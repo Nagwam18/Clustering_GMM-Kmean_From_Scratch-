{
  "nbformat": 4,
  "nbformat_minor": 0,
  "metadata": {
    "colab": {
      "private_outputs": true,
      "provenance": []
    },
    "kernelspec": {
      "name": "python3",
      "display_name": "Python 3"
    },
    "language_info": {
      "name": "python"
    }
  },
  "cells": [
    {
      "cell_type": "markdown",
      "source": [
        "# Import Libraries"
      ],
      "metadata": {
        "id": "R43Eset_8ovD"
      }
    },
    {
      "cell_type": "code",
      "source": [
        "import numpy as np\n",
        "import pandas as pd\n",
        "import matplotlib.pyplot as plt"
      ],
      "metadata": {
        "id": "IYtW7yteLSiu"
      },
      "execution_count": null,
      "outputs": []
    },
    {
      "cell_type": "markdown",
      "source": [
        "## Step 1: Initialize Centroids.\n",
        "###This function randomly selects `k` points from the dataset as initial cluster centroids.\n"
      ],
      "metadata": {
        "id": "9mqOs5_Z9iKw"
      }
    },
    {
      "cell_type": "code",
      "execution_count": null,
      "metadata": {
        "id": "3lZbklFwKKE6"
      },
      "outputs": [],
      "source": [
        "def initialize_centroids(X,k):\n",
        "    np.random.seed(42)\n",
        "    return X[np.random.choice(X.shape[0], k, replace=False)]"
      ]
    },
    {
      "cell_type": "markdown",
      "source": [
        "## Step 2: Assign Clusters\n",
        "### This function computes the Euclidean distance between each data point and the centroids and assigns each point to the nearest centroid"
      ],
      "metadata": {
        "id": "AUY1jqkD9vF5"
      }
    },
    {
      "cell_type": "code",
      "source": [
        "def assign_clusters(X,centroids):\n",
        "    distances=np.linalg.norm(X[:,np.newaxis] -centroids,axis=2)\n",
        "    return np.argmin(distances, axis=1)\n"
      ],
      "metadata": {
        "id": "oZRyYCYJLWpZ"
      },
      "execution_count": null,
      "outputs": []
    },
    {
      "cell_type": "markdown",
      "source": [
        "## Step 3: Compute New Centroids\n",
        "###This function recalculates the centroids by taking the mean of all points assigned to each cluster.\n"
      ],
      "metadata": {
        "id": "Wdsd1sfw97fv"
      }
    },
    {
      "cell_type": "code",
      "source": [
        "def compute_centroids(X,labels,k):\n",
        "    return np.array([X[labels==i].mean(axis=0) for i in range(k)])"
      ],
      "metadata": {
        "id": "tk_9Ly7nLWmA"
      },
      "execution_count": null,
      "outputs": []
    },
    {
      "cell_type": "markdown",
      "source": [
        "## Step 4: K-Means Algorithm\n",
        "###This function iterates over assigning clusters and updating centroids for a given number of iterations.\n"
      ],
      "metadata": {
        "id": "SgaEXAYk-G_y"
      }
    },
    {
      "cell_type": "code",
      "source": [
        "def kmeans(X, k, max_iters=100):\n",
        "    centroids = initialize_centroids(X,k)\n",
        "    for _ in range(max_iters):\n",
        "        labels = assign_clusters(X,centroids)\n",
        "        new_centroids = compute_centroids(X,labels,k)\n",
        "        centroids = new_centroids\n",
        "    return centroids, labels"
      ],
      "metadata": {
        "id": "pe6KPXKELWkJ"
      },
      "execution_count": null,
      "outputs": []
    },
    {
      "cell_type": "markdown",
      "source": [
        "#Step 5: Load Data and Apply K-Means\n",
        "###Load the dataset, apply K-Means clustering, and visualize the results.\n"
      ],
      "metadata": {
        "id": "OFIscC5h-Rx7"
      }
    },
    {
      "cell_type": "code",
      "source": [
        "#Load Data\n",
        "X=pd.read_csv('/content/Clustering_Data.csv')\n",
        "X=np.array(X)"
      ],
      "metadata": {
        "id": "PSIdE67VLt1i"
      },
      "execution_count": null,
      "outputs": []
    },
    {
      "cell_type": "code",
      "source": [
        "# Apply K-Means\n",
        "centroids, labels = kmeans(X, k=3)\n",
        "#Visualization\n",
        "plt.scatter(X[:, 0], X[:, 1], c=labels, cmap='viridis', alpha=0.6)\n",
        "plt.scatter(centroids[:, 0], centroids[:, 1], c='red', marker='X', s=200, label='Centroids')\n",
        "plt.legend()\n",
        "plt.show()"
      ],
      "metadata": {
        "id": "fh1o7yjTLtvL"
      },
      "execution_count": null,
      "outputs": []
    }
  ]
}