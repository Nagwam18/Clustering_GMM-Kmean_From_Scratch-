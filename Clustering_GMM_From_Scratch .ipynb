{
  "nbformat": 4,
  "nbformat_minor": 0,
  "metadata": {
    "colab": {
      "private_outputs": true,
      "provenance": []
    },
    "kernelspec": {
      "name": "python3",
      "display_name": "Python 3"
    },
    "language_info": {
      "name": "python"
    }
  },
  "cells": [
    {
      "cell_type": "markdown",
      "source": [
        "# Import Libraries"
      ],
      "metadata": {
        "id": "M2R2hejn_Ldu"
      }
    },
    {
      "cell_type": "code",
      "source": [
        "import pandas as pd\n",
        "import numpy as np\n",
        "from sklearn.preprocessing import StandardScaler\n",
        "from sklearn.mixture import GaussianMixture\n",
        "import matplotlib.pyplot as plt\n",
        "from scipy.stats import multivariate_normal"
      ],
      "metadata": {
        "id": "gfydrdOjOxyH"
      },
      "execution_count": null,
      "outputs": []
    },
    {
      "cell_type": "code",
      "execution_count": null,
      "metadata": {
        "id": "2mPCntuVDAif"
      },
      "outputs": [],
      "source": [
        "#Load Data\n",
        "data=pd.read_csv(\"/content/Clustering_Data.csv\")"
      ]
    },
    {
      "cell_type": "code",
      "source": [
        "data.head()"
      ],
      "metadata": {
        "id": "laMYNtuNDpm8"
      },
      "execution_count": null,
      "outputs": []
    },
    {
      "cell_type": "markdown",
      "source": [
        "# Standardize the dataset using StandardScaler to normalize the features."
      ],
      "metadata": {
        "id": "xBooQljk_0jd"
      }
    },
    {
      "cell_type": "code",
      "source": [
        "sc=StandardScaler()\n",
        "scaled_data=sc.fit_transform(data)"
      ],
      "metadata": {
        "id": "XN1jTA_LDpfz"
      },
      "execution_count": null,
      "outputs": []
    },
    {
      "cell_type": "code",
      "source": [
        "scaled_data"
      ],
      "metadata": {
        "id": "7MkCA8dQKIb-"
      },
      "execution_count": null,
      "outputs": []
    },
    {
      "cell_type": "code",
      "source": [
        "n_clusters=4\n",
        "random_state=18\n",
        "num_iterations=100"
      ],
      "metadata": {
        "id": "PM5lnsDYTNMy"
      },
      "execution_count": null,
      "outputs": []
    },
    {
      "cell_type": "code",
      "source": [
        "scaled_data.shape"
      ],
      "metadata": {
        "id": "9UmcvyyIlDrM"
      },
      "execution_count": null,
      "outputs": []
    },
    {
      "cell_type": "code",
      "source": [
        "new_data=scaled_data.copy()"
      ],
      "metadata": {
        "id": "bBVYnOhcltFn"
      },
      "execution_count": null,
      "outputs": []
    },
    {
      "cell_type": "markdown",
      "source": [
        "##This function implements the Expectation-Maximization (EM) algorithm for GMM clustering.\n"
      ],
      "metadata": {
        "id": "aldySbe-BXEr"
      }
    },
    {
      "cell_type": "code",
      "source": [
        "def gmm(X, n_clusters, num_iterations):\n",
        "    n_samples, n_features = X.shape\n",
        "    means = X[np.random.choice(n_samples, n_clusters, replace=False)]\n",
        "    cov = [np.eye(n_features) for _ in range(n_clusters)]\n",
        "    w = np.ones(n_clusters) / n_clusters\n",
        "    for _ in range(num_iterations):\n",
        "        res = []\n",
        "        for j in range(n_clusters):\n",
        "            numer = w[j] * multivariate_normal.pdf(X, means[j], cov[j])\n",
        "            res.append(numer)\n",
        "        res = np.array(res).T\n",
        "        res /= res.sum(axis=1, keepdims=True)\n",
        "        total_res = np.sum(res, axis=0)\n",
        "        w = total_res / n_samples\n",
        "        means = (res.T @ X) / total_res[:, np.newaxis]\n",
        "        for k in range(n_clusters):\n",
        "            diff = X - means[k]\n",
        "            cov[k] = ((res[:, k][:, np.newaxis] * diff).T @ diff) / total_res[k]\n",
        "    return means, cov, w"
      ],
      "metadata": {
        "id": "C0VwoVH6TNHz"
      },
      "execution_count": null,
      "outputs": []
    },
    {
      "cell_type": "markdown",
      "source": [
        "##Run the GMM algorithm on the standardized dataset to estimate means, covariances, and weights.\n"
      ],
      "metadata": {
        "id": "KXr5LUtiAX7C"
      }
    },
    {
      "cell_type": "code",
      "source": [
        "e_mean,e_cov,e_w=gmm(new_data,n_clusters,num_iterations)\n",
        "print(\"Estimated Mean\",e_mean)\n",
        "print(\"Estimated covriance\",e_cov)\n",
        "print(\"Estimated Weight\",e_w)"
      ],
      "metadata": {
        "id": "eh6yEhd4dls9"
      },
      "execution_count": null,
      "outputs": []
    },
    {
      "cell_type": "markdown",
      "source": [
        "##Assign Clusters\n",
        "###Using the estimated parameters from GMM, assign each point to the cluster with the highest probability.\n"
      ],
      "metadata": {
        "id": "GFaObKLVAnvh"
      }
    },
    {
      "cell_type": "code",
      "source": [
        "def assign_clusters(X,means,cov,w):\n",
        "    n_samples=X.shape[0]\n",
        "    n_clusters=len(means)\n",
        "    res=np.zeros((n_samples, n_clusters))\n",
        "    for k in range(n_clusters):\n",
        "        res[:, k] = multivariate_normal.pdf(X, mean=means[k], cov=cov[k]) * w[k]\n",
        "    cluster_assignments = np.argmax(res,axis=1)\n",
        "    return cluster_assignments\n",
        "\n",
        "predictes=assign_clusters(new_data,e_mean,e_cov,e_w)"
      ],
      "metadata": {
        "id": "B4DMpUzGpDes"
      },
      "execution_count": null,
      "outputs": []
    },
    {
      "cell_type": "code",
      "source": [
        "#Visualize Clusters.\n",
        "plt.scatter(new_data[:, 0], new_data[:, 1], c=predictes, cmap='viridis')\n",
        "plt.scatter(e_mean[:, 0], e_mean[:, 1], marker='x', s=100, color='red', label='Cluster Centers')\n",
        "plt.legend()\n",
        "plt.title(\"GMM Clustering\")\n",
        "plt.show()"
      ],
      "metadata": {
        "id": "lZ1M45g_pnNF"
      },
      "execution_count": null,
      "outputs": []
    }
  ]
}